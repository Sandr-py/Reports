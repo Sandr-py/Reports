{
  "nbformat": 4,
  "nbformat_minor": 0,
  "metadata": {
    "colab": {
      "name": "PZ_3-5.ipynb",
      "provenance": [],
      "authorship_tag": "ABX9TyOdSSjJd2ImKPGASccYL9q1",
      "include_colab_link": true
    },
    "kernelspec": {
      "name": "python3",
      "display_name": "Python 3"
    },
    "language_info": {
      "name": "python"
    }
  },
  "cells": [
    {
      "cell_type": "markdown",
      "metadata": {
        "id": "view-in-github",
        "colab_type": "text"
      },
      "source": [
        "<a href=\"https://colab.research.google.com/github/Sandr-py/Reports/blob/main/PZ_3_5.ipynb\" target=\"_parent\"><img src=\"https://colab.research.google.com/assets/colab-badge.svg\" alt=\"Open In Colab\"/></a>"
      ]
    },
    {
      "cell_type": "markdown",
      "source": [
        "PZ_3"
      ],
      "metadata": {
        "id": "_Co2pHrZAFGn"
      }
    },
    {
      "cell_type": "code",
      "execution_count": null,
      "metadata": {
        "id": "J9tjS6Q9_2Vc"
      },
      "outputs": [],
      "source": [
        "#Дано целое число A. Проверить истинность высказывания: «Число A является\n",
        "#четным».\n",
        "a = input('Введите a: ')\n",
        "while type(a) != int:   # Обработка исключений\n",
        "    try:\n",
        "        a = int(a)\n",
        "    except ValueError:\n",
        "        print('Вами введено не ЦЕЛОЕ число, попробуйте снова. . .')\n",
        "        a = input('Введите a')\n",
        "if a % 2 == 0:   # Проверка на чётность числа и вывод\n",
        "    print(f'Число {a} является чётным.')\n",
        "else:\n",
        "    print(f'Число {a} нечётное.')"
      ]
    },
    {
      "cell_type": "markdown",
      "source": [
        "PZ_4"
      ],
      "metadata": {
        "id": "xn0s4tX7ET00"
      }
    },
    {
      "cell_type": "code",
      "source": [
        "# Дано вещественное число — цена 1 кг конфет. Вывести стоимость 1, 2, ..., 10 кг\n",
        "# конфет.\n",
        "\n",
        "\n",
        "a = input('Введите стоимость килограмма конфет: ')\n",
        "\n",
        "while type(a) != float:   # Обработка исключений\n",
        "    try:\n",
        "        a = float(a)\n",
        "        if a <= 0:\n",
        "            print('Вы ввели отрицательное число или 0. Попробуйте снова. . .')\n",
        "            a = input('Введите стоимость килограмма конфет: ')\n",
        "            continue\n",
        "    except ValueError:\n",
        "        print('Вы ввели неверное значение. Попробуйте снова. . .')\n",
        "        a = input('Введите стоимость килограмма конфет: ')\n",
        "\n",
        "i = 1\n",
        "while i != 11:   # Поочерёдный вывод стоимости разного веса конфет\n",
        "    b = a * i\n",
        "    print(f'{i} килограмм конфет стоит {b} рублей')\n",
        "    i += 1"
      ],
      "metadata": {
        "id": "Pgodptj5EWLj"
      },
      "execution_count": null,
      "outputs": []
    },
    {
      "cell_type": "markdown",
      "source": [
        "PZ_5"
      ],
      "metadata": {
        "id": "hg8kFk72Eozc"
      }
    },
    {
      "cell_type": "code",
      "source": [
        "# Составить функцию, которая выполнит суммирования числового ряда.\n",
        "def exception(a):   # Функция обработки исключения.\n",
        "    while type(a) != int:\n",
        "        try:\n",
        "            a = int(a)\n",
        "        except ValueError:\n",
        "            print(f\"{a} не может быть числом, попробуйте снова...\")\n",
        "            a = input('Введите число: ')\n",
        "    return a\n",
        "\n",
        "\n",
        "# Главная функция  с интеграцией обработки исключений и проведением рассчётов.\n",
        "\n",
        "def summari():\n",
        "    stopWord = 'fill'\n",
        "    summ = 0\n",
        "    while stopWord != '1':\n",
        "        num = input('Введите число: ')\n",
        "        num = exception(num)\n",
        "        summ += num\n",
        "        stopWord = input(\"Если не хотите вводить больше, пропишите (1), иначе нажмите (Enter):   \")\n",
        "    return summ   # Возврат суммы.\n",
        "print(f\"\\n Сумма числового ряда равна {summari()}\")\n"
      ],
      "metadata": {
        "colab": {
          "base_uri": "https://localhost:8080/"
        },
        "id": "2zGUH4H-EtVM",
        "outputId": "896f2387-3080-4f9a-d4f2-7eb218044c15"
      },
      "execution_count": 5,
      "outputs": [
        {
          "output_type": "stream",
          "name": "stdout",
          "text": [
            "Введите число: 6\n",
            "Если не хотите вводить больше, пропишите (1), иначе нажмите (Enter):   \n",
            "Введите число: 7\n",
            "Если не хотите вводить больше, пропишите (1), иначе нажмите (Enter):   \n",
            "Введите число: 5\n",
            "Если не хотите вводить больше, пропишите (1), иначе нажмите (Enter):   1\n",
            "\n",
            " Сумма числового ряда равна 18\n"
          ]
        }
      ]
    }
  ]
}
